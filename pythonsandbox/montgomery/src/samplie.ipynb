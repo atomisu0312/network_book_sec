{
 "cells": [
  {
   "cell_type": "code",
   "execution_count": 43,
   "metadata": {},
   "outputs": [],
   "source": [
    "#https://tex2e.github.io/blog/crypto/montgomery-ladder\n",
    "def binary(n):\n",
    "    return bin(n)[2:]\n",
    "\n",
    "def pow_by_montgomery_ladder(a, x, n): # a^x mod n\n",
    "    x = [int(b) for b in binary(x)[::-1]]\n",
    "    k = len(x)\n",
    "    a1 = 1\n",
    "    a2 = a\n",
    "    for i in range(k - 1, -1, -1):\n",
    "        if x[i] == 0:\n",
    "            a2 = (a1 * a2) % n\n",
    "            a1 = (a1**2) % n\n",
    "        else:\n",
    "            a1 = (a1 * a2) % n\n",
    "            a2 = (a2**2) % n\n",
    "    return a1"
   ]
  },
  {
   "cell_type": "code",
   "execution_count": 46,
   "metadata": {},
   "outputs": [
    {
     "data": {
      "text/plain": [
       "43"
      ]
     },
     "execution_count": 46,
     "metadata": {},
     "output_type": "execute_result"
    }
   ],
   "source": [
    "pow_by_montgomery_ladder(7,3,100)"
   ]
  }
 ],
 "metadata": {
  "language_info": {
   "name": "python"
  }
 },
 "nbformat": 4,
 "nbformat_minor": 2
}
